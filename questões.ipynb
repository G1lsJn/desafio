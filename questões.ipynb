{
 "cells": [
  {
   "cell_type": "markdown",
   "metadata": {},
   "source": [
    "# Gilson Dias \n",
    "https://www.linkedin.com/in/gilson-dias-jn/"
   ]
  },
  {
   "cell_type": "markdown",
   "metadata": {},
   "source": [
    "\n",
    "1) Observe o trecho de código abaixo: int INDICE = 13, SOMA = 0, K = 0; <br>\n",
    "Enquanto K < INDICE faça { K = K + 1; SOMA = SOMA + K; }\n",
    "Imprimir(SOMA); <br>\n",
    "Ao final do processamento, qual será o valor da variável SOMA?"
   ]
  },
  {
   "cell_type": "code",
   "execution_count": 7,
   "metadata": {},
   "outputs": [
    {
     "name": "stdout",
     "output_type": "stream",
     "text": [
      "O resultado da soma é  91\n"
     ]
    }
   ],
   "source": [
    "i = 13\n",
    "SOMA = 0\n",
    "K = 0\n",
    "\n",
    "while (K < i):\n",
    "    K = K + 1\n",
    "    SOMA = SOMA + K\n",
    "\n",
    "print(\"O resultado da soma é \", SOMA)\n"
   ]
  },
  {
   "cell_type": "markdown",
   "metadata": {},
   "source": [
    "2) Dado a sequência de Fibonacci, onde se inicia por 0 e 1 e o próximo valor sempre será a soma dos 2 valores anteriores (exemplo: 0, 1, 1, 2, 3, 5, 8, 13, 21, 34...), escreva um programa na linguagem que desejar onde, informado um número, ele calcule a sequência de Fibonacci e retorne uma mensagem avisando se o número informado pertence ou não a sequência.\n",
    "\n",
    "<br>\n",
    "\n",
    "IMPORTANTE: Esse número pode ser informado através de qualquer entrada de sua preferência ou pode ser previamente definido no código;"
   ]
  },
  {
   "cell_type": "code",
   "execution_count": 5,
   "metadata": {},
   "outputs": [
    {
     "name": "stdout",
     "output_type": "stream",
     "text": [
      "O número 21 pertence à sequência de Fibonacci.\n"
     ]
    }
   ],
   "source": [
    "def fibonacci(num):\n",
    "    a, b = 0, 1\n",
    "    while b <= num:\n",
    "        if b == num:\n",
    "            return True\n",
    "        a, b = b, a + b\n",
    "    return False\n",
    "\n",
    "# Teste com um número que faz parte da sequência\n",
    "num = 21  \n",
    "\n",
    "if fibonacci(num):\n",
    "    print(f\"O número {num} pertence à sequência de Fibonacci.\")\n",
    "else:\n",
    "    print(f\"O número {num} não pertence à sequência de Fibonacci.\")\n"
   ]
  },
  {
   "cell_type": "markdown",
   "metadata": {},
   "source": [
    "3) Dado um vetor que guarda o valor de faturamento diário de uma distribuidora, faça um programa, na linguagem que desejar, que calcule e retorne:<br>\n",
    "• O menor valor de faturamento ocorrido em um dia do mês;<br>\n",
    "• O maior valor de faturamento ocorrido em um dia do mês;<br>\n",
    "• Número de dias no mês em que o valor de faturamento diário foi superior à média mensal.\n",
    "\n",
    "<br> \n",
    "\n",
    "IMPORTANTE:<br>\n",
    "a) Usar o json ou xml disponível como fonte dos dados do faturamento mensal;<br>\n",
    "b) Podem existir dias sem faturamento, como nos finais de semana e feriados. Estes dias devem ser ignorados no cálculo da média;"
   ]
  },
  {
   "cell_type": "code",
   "execution_count": 8,
   "metadata": {},
   "outputs": [
    {
     "name": "stdout",
     "output_type": "stream",
     "text": [
      "Menor valor de faturamento: 220.5\n",
      "Maior valor de faturamento: 550.2\n",
      "Dias com faturamento acima da média: 2\n"
     ]
    }
   ],
   "source": [
    "import json\n",
    "\n",
    "# Exemplo de dados em JSON\n",
    "faturamento_mensal = {\n",
    "    \"dia\": [1, 2, 3, 4, 5],\n",
    "    \"valor\": [220.5, 330.0, 0.0, 550.2, 410.3]\n",
    "}\n",
    "\n",
    "# Processando os dados\n",
    "valores = [valor for valor in faturamento_mensal[\"valor\"] if valor > 0]\n",
    "menor_valor = min(valores)\n",
    "maior_valor = max(valores)\n",
    "media_mensal = sum(valores) / len(valores)\n",
    "dias_acima_da_media = sum(1 for valor in valores if valor > media_mensal)\n",
    "\n",
    "print(f\"Menor valor de faturamento: {menor_valor}\")\n",
    "print(f\"Maior valor de faturamento: {maior_valor}\")\n",
    "print(f\"Dias com faturamento acima da média: {dias_acima_da_media}\")\n"
   ]
  },
  {
   "cell_type": "markdown",
   "metadata": {},
   "source": [
    "4) Dado o valor de faturamento mensal de uma distribuidora, detalhado por estado:<br>\n",
    "• SP – R$67.836,43 <br>\n",
    "• RJ – R$36.678,66 <br>\n",
    "• MG – R$29.229,88 <br>\n",
    "• ES – R$27.165,48 <br>\n",
    "• Outros – R$19.849,53\n",
    "<br><br>\n",
    "Escreva um programa na linguagem que desejar onde calcule o percentual de representação que cada estado teve dentro do valor total mensal da distribuidora.  "
   ]
  },
  {
   "cell_type": "code",
   "execution_count": 9,
   "metadata": {},
   "outputs": [
    {
     "name": "stdout",
     "output_type": "stream",
     "text": [
      "SP: 37.53%\n",
      "RJ: 20.29%\n",
      "MG: 16.17%\n",
      "ES: 15.03%\n",
      "Outros: 10.98%\n"
     ]
    }
   ],
   "source": [
    "faturamento_estados = {\n",
    "    \"SP\": 67836.43,\n",
    "    \"RJ\": 36678.66,\n",
    "    \"MG\": 29229.88,\n",
    "    \"ES\": 27165.48,\n",
    "    \"Outros\": 19849.53\n",
    "}\n",
    "\n",
    "total_faturamento = sum(faturamento_estados.values())\n",
    "\n",
    "for estado, valor in faturamento_estados.items():\n",
    "    percentual = (valor / total_faturamento) * 100\n",
    "    print(f\"{estado}: {percentual:.2f}%\")\n"
   ]
  },
  {
   "cell_type": "markdown",
   "metadata": {},
   "source": [
    "5) Escreva um programa que inverta os caracteres de um string.\n",
    "<br><br>\n",
    "IMPORTANTE:<br>\n",
    "a) Essa string pode ser informada através de qualquer entrada de sua preferência ou pode ser previamente definida no código;<br>\n",
    "b) Evite usar funções prontas, como, por exemplo, reverse;"
   ]
  },
  {
   "cell_type": "code",
   "execution_count": 12,
   "metadata": {},
   "outputs": [
    {
     "name": "stdout",
     "output_type": "stream",
     "text": [
      "String invertida: saiD nosliG\n"
     ]
    }
   ],
   "source": [
    "def inverte_string(s):\n",
    "    invertida = \"\"\n",
    "    for char in s:\n",
    "        invertida = char + invertida\n",
    "    return invertida\n",
    "\n",
    "# Teste com uma string\n",
    "string = \"Gilson Dias\"\n",
    "print(f\"String invertida: {inverte_string(string)}\")\n"
   ]
  }
 ],
 "metadata": {
  "kernelspec": {
   "display_name": "Python 3",
   "language": "python",
   "name": "python3"
  },
  "language_info": {
   "codemirror_mode": {
    "name": "ipython",
    "version": 3
   },
   "file_extension": ".py",
   "mimetype": "text/x-python",
   "name": "python",
   "nbconvert_exporter": "python",
   "pygments_lexer": "ipython3",
   "version": "3.11.9"
  }
 },
 "nbformat": 4,
 "nbformat_minor": 2
}
